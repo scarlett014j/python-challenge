{
 "cells": [
  {
   "cell_type": "code",
   "execution_count": 6,
   "metadata": {},
   "outputs": [],
   "source": [
    "#import modules\n",
    "import os\n",
    "import csv"
   ]
  },
  {
   "cell_type": "code",
   "execution_count": 7,
   "metadata": {},
   "outputs": [],
   "source": [
    "#defining path\n",
    "csv_path = os.path.join(\"Resources\", \"budget_data.csv\")"
   ]
  },
  {
   "cell_type": "code",
   "execution_count": 8,
   "metadata": {},
   "outputs": [
    {
     "name": "stdout",
     "output_type": "stream",
     "text": [
      "Financial Analysis\n",
      "------------------\n",
      "Total Months: 87\n",
      "Total $38382578.00\n",
      "Average Change $441179.06\n",
      "Greatest Increase in Profits: Feb-2012 ($1170593.00)\n",
      "Greatest Decrease in Profits: Sep-2013 ($-1196225.00)\n"
     ]
    }
   ],
   "source": [
    "with open(csv_path) as csv_file:\n",
    "    # CSV reader specifies delimiter and variable that holds contents\n",
    "    csv_reader = csv.reader(csv_file, delimiter=',')\n",
    "    \n",
    "    #printing header for output\n",
    "    print(\"Financial Analysis\")\n",
    "    print(\"------------------\")\n",
    "    #number of months\n",
    "    row_count = sum(1 for row in csv_file)\n",
    "    print(\"Total Months: \" + str(row_count))\n",
    "    \n",
    "#calculating the sum of the profits/losses column\n",
    "with open(csv_path) as csv_file:\n",
    "    csv_reader = csv.reader(csv_file)\n",
    "    next(csv_reader)\n",
    "    tot = 0\n",
    "    big = 0\n",
    "    small = 0\n",
    "    for row in csv_reader:\n",
    "        profit = float(row[1])\n",
    "        tot = profit + tot\n",
    "        #calculating the max\n",
    "        if profit > big:\n",
    "            big = profit\n",
    "            month = row[0]\n",
    "        #calculating the min\n",
    "        if profit < small:\n",
    "            small = profit\n",
    "            month2 = row[0]\n",
    "    #calculating the average from the total\n",
    "    average = tot/row_count\n",
    "    #printing out the data \n",
    "    print(\"Total $\" + str(tot)+\"0\")\n",
    "    print(\"Average Change $\" + \"{:.2f}\".format(average))\n",
    "    print(\"Greatest Increase in Profits: \"+ month + \" ($\"+str(big)+\"0)\")\n",
    "    print(\"Greatest Decrease in Profits: \"+ month2 + \" ($\"+str(small)+\"0)\")"
   ]
  },
  {
   "cell_type": "code",
   "execution_count": null,
   "metadata": {},
   "outputs": [],
   "source": []
  },
  {
   "cell_type": "code",
   "execution_count": null,
   "metadata": {},
   "outputs": [],
   "source": []
  },
  {
   "cell_type": "code",
   "execution_count": null,
   "metadata": {},
   "outputs": [],
   "source": []
  },
  {
   "cell_type": "code",
   "execution_count": 9,
   "metadata": {},
   "outputs": [
    {
     "name": "stdout",
     "output_type": "stream",
     "text": [
      "Output of Read function is \n",
      "Financial Analysis \n",
      "-------------------- \n",
      "Total $38382578.00 \n",
      "Average Change $441179.06\n",
      "Greatest Increase in Profits: Feb-2012 ($1170593.00) \n",
      "Greatest Decrease in Profits: Sep-2013 ($-1196225.00) \n",
      "\n"
     ]
    }
   ],
   "source": [
    " # write data in a file. \n",
    "file1 = open(\"myresults.txt\",\"w\") \n",
    "L = [\"Total $\" + str(tot)+\"0 \\n\",\"Average Change $\" + \"{:.2f}\".format(average)]\n",
    "M = [\"\\nGreatest Increase in Profits: \"+ month + \" ($\"+str(big)+\"0) \\n\",\"Greatest Decrease in Profits: \"+ month2 + \" ($\"+str(small)+\"0) \\n\"]  \n",
    "  \n",
    "# \\n is placed to indicate EOL (End of Line) \n",
    "file1.write(\"Financial Analysis \\n-------------------- \\n\") \n",
    "file1.writelines(L)\n",
    "file1.writelines(M)\n",
    "file1.close() \n",
    "  \n",
    "file1 = open(\"myresults.txt\",\"r+\")  \n",
    "  \n",
    "#checking the output for the file    \n",
    "print (\"Output of Read function is \")\n",
    "print (file1.read()) \n",
    "\n",
    " "
   ]
  },
  {
   "cell_type": "code",
   "execution_count": null,
   "metadata": {},
   "outputs": [],
   "source": [
    "    "
   ]
  },
  {
   "cell_type": "code",
   "execution_count": null,
   "metadata": {},
   "outputs": [],
   "source": []
  },
  {
   "cell_type": "code",
   "execution_count": null,
   "metadata": {},
   "outputs": [],
   "source": []
  },
  {
   "cell_type": "code",
   "execution_count": null,
   "metadata": {},
   "outputs": [],
   "source": [
    "   "
   ]
  },
  {
   "cell_type": "code",
   "execution_count": null,
   "metadata": {},
   "outputs": [],
   "source": []
  }
 ],
 "metadata": {
  "kernelspec": {
   "display_name": "Python 3",
   "language": "python",
   "name": "python3"
  },
  "language_info": {
   "codemirror_mode": {
    "name": "ipython",
    "version": 3
   },
   "file_extension": ".py",
   "mimetype": "text/x-python",
   "name": "python",
   "nbconvert_exporter": "python",
   "pygments_lexer": "ipython3",
   "version": "3.7.6"
  }
 },
 "nbformat": 4,
 "nbformat_minor": 4
}
