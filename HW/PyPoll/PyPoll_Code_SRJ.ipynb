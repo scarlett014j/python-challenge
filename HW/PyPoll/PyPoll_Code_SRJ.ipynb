{
 "cells": [
  {
   "cell_type": "code",
   "execution_count": 18,
   "metadata": {},
   "outputs": [],
   "source": [
    "#import modules\n",
    "import os\n",
    "import csv"
   ]
  },
  {
   "cell_type": "code",
   "execution_count": 19,
   "metadata": {},
   "outputs": [],
   "source": [
    "#defining path\n",
    "csv_path = os.path.join(\"Resources\", \"election_data.csv\")"
   ]
  },
  {
   "cell_type": "code",
   "execution_count": 31,
   "metadata": {},
   "outputs": [
    {
     "name": "stdout",
     "output_type": "stream",
     "text": [
      "Election Results\n",
      "-------------------------\n",
      "Total Votes: 3521001\n",
      "-------------------------\n",
      "Khan 63.00% (2218231) votes \n",
      "Correy 20.00% (704200) votes \n",
      "Li 14.00% (492940) votes \n",
      "O'Tooley 3.00% (105630) votes \n",
      "\n",
      "-------------------------\n",
      "The winner is: Khan\n"
     ]
    }
   ],
   "source": [
    "output = \"\"\n",
    "with open(csv_path) as csv_file:\n",
    "    # CSV reader specifies delimiter and variable that holds contents\n",
    "    csv_reader = csv.reader(csv_file, delimiter=',')\n",
    "    #printing header for output\n",
    "    output =\"Election Results\\n-------------------------\\n\"\n",
    "    next(csv_reader)\n",
    "     #number of votes\n",
    "    row_count = sum(1 for row in csv_file)\n",
    "    output = output +\"Total Votes: \" + str(row_count)+\"\\n-------------------------\\n\"\n",
    "#finds the unique candidates and puts them in a list    \n",
    "with open(csv_path) as csv_file:\n",
    "    csv_reader = csv.reader(csv_file, delimiter = ',')\n",
    "    Candidate = {}\n",
    "    for row in csv_reader:\n",
    "        if row[2] not in Candidate:\n",
    "            Candidate[row[2]]=0             \n",
    "\n",
    "Candidate.pop('Candidate')\n",
    "#print(Candidate)\n",
    "#finds the number of votes for each candidate\n",
    "with open(csv_path) as csv_file:\n",
    "    csv_reader = csv.reader(csv_file, delimiter = ',')\n",
    "    next(csv_reader)\n",
    "    winner = \"\"\n",
    "    most = 0\n",
    "    for row in csv_reader:\n",
    "        Candidate[row[2]] = Candidate[row[2]] + 1\n",
    "    for key in Candidate:\n",
    "        per = (Candidate[key]/row_count)*100 \n",
    "        output = output + key + \" \" + \"{:.2f}\".format(per) + \"% (\" + str(Candidate[key])+ \") votes \\n\"\n",
    "        if most < Candidate[key]:\n",
    "            most = Candidate[key]\n",
    "            winner = key\n",
    "    output = output +\"\\n-------------------------\\nThe winner is: \" + winner\n",
    "    print(output)\n",
    "file1 = open(\"myresults.txt\",\"w\") \n",
    "file1.write(output)\n",
    "file1.close()"
   ]
  },
  {
   "cell_type": "code",
   "execution_count": null,
   "metadata": {},
   "outputs": [],
   "source": []
  },
  {
   "cell_type": "code",
   "execution_count": null,
   "metadata": {},
   "outputs": [],
   "source": []
  },
  {
   "cell_type": "code",
   "execution_count": null,
   "metadata": {},
   "outputs": [],
   "source": []
  }
 ],
 "metadata": {
  "kernelspec": {
   "display_name": "Python 3",
   "language": "python",
   "name": "python3"
  },
  "language_info": {
   "codemirror_mode": {
    "name": "ipython",
    "version": 3
   },
   "file_extension": ".py",
   "mimetype": "text/x-python",
   "name": "python",
   "nbconvert_exporter": "python",
   "pygments_lexer": "ipython3",
   "version": "3.7.6"
  }
 },
 "nbformat": 4,
 "nbformat_minor": 4
}
