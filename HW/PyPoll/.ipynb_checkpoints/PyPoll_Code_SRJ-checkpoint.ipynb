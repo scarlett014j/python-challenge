{
 "cells": [
  {
   "cell_type": "code",
   "execution_count": 2,
   "metadata": {},
   "outputs": [],
   "source": [
    "#import modules\n",
    "import os\n",
    "import csv"
   ]
  },
  {
   "cell_type": "code",
   "execution_count": 3,
   "metadata": {},
   "outputs": [],
   "source": [
    "#defining path\n",
    "csv_path = os.path.join(\"Resources\", \"election_data.csv\")"
   ]
  },
  {
   "cell_type": "code",
   "execution_count": 6,
   "metadata": {},
   "outputs": [
    {
     "name": "stdout",
     "output_type": "stream",
     "text": [
      "Election Results\n",
      "-------------------------\n",
      "Total Votes: 3521001\n",
      "-------------------------\n",
      "Khan 63.00% (2218231) votes\n",
      "Correy 20.00% (704200) votes\n",
      "Li 14.00% (492940) votes\n",
      "O'Tooley 3.00% (105630) votes\n",
      "Winner: \n"
     ]
    }
   ],
   "source": [
    "with open(csv_path) as csv_file:\n",
    "    # CSV reader specifies delimiter and variable that holds contents\n",
    "    csv_reader = csv.reader(csv_file, delimiter=',')\n",
    "    #printing header for output\n",
    "    print(\"Election Results\")\n",
    "    print(\"-------------------------\")\n",
    "    next(csv_reader)\n",
    "     #number of votes\n",
    "    row_count = sum(1 for row in csv_file)\n",
    "    print(\"Total Votes: \" + str(row_count))\n",
    "    print(\"-------------------------\")\n",
    "#finds the unique candidates and puts them in a list    \n",
    "with open(csv_path) as csv_file:\n",
    "    csv_reader = csv.reader(csv_file, delimiter = ',')\n",
    "    Candidate = []\n",
    "    for row in csv_reader:\n",
    "        if row[2] not in Candidate:\n",
    "            Candidate.append(row[2])\n",
    "Candidate.pop(0)\n",
    "#finds the number of votes for each candidate\n",
    "with open(csv_path) as csv_file:\n",
    "    csv_reader = csv.reader(csv_file, delimiter = ',')\n",
    "    tot1 = 0 \n",
    "    tot2 = 0\n",
    "    tot3 = 0\n",
    "    tot4 = 0\n",
    "    for row in csv_reader:\n",
    "        if Candidate[0] == row[2]:\n",
    "            tot1 = tot1 + 1\n",
    "        if Candidate[1] == row[2]:\n",
    "            tot2 = tot2 + 1\n",
    "        if Candidate[2] == row[2]:\n",
    "            tot3 = tot3 + 1\n",
    "        if Candidate[3] == row[2]:\n",
    "            tot4 = tot4 + 1\n",
    "    per1 = (tot1/row_count)*100\n",
    "    per2 = (tot2/row_count)*100\n",
    "    per3 = (tot3/row_count)*100\n",
    "    per4 = (tot4/row_count)*100\n",
    "    percent=[per1, per2, per3, per4]\n",
    "    print(Candidate[1] + \" \" + \"{:.2f}\".format(per1) + \"% (\" + str(tot1)+ \") votes\")\n",
    "    print(Candidate[2] + \" \" + \"{:.2f}\".format(per2) + \"% (\" + str(tot2)+ \") votes\")\n",
    "    print(Candidate[3] + \" \" +  \"{:.2f}\".format(per3) + \"% (\" + str(tot3)+ \") votes\")\n",
    "    print(Candidate[4] + \" \" +  \"{:.2f}\".format(per4) + \"% (\" + str(tot4)+ \") votes\")\n",
    "    print(\"Winner: \" )"
   ]
  },
  {
   "cell_type": "code",
   "execution_count": null,
   "metadata": {},
   "outputs": [],
   "source": [
    "\n",
    "percent = [per1, per2, per3, per4]\n",
    "print(percent)\n",
    "#print(Candidate.pop())\n",
    "print(Candidate)"
   ]
  },
  {
   "cell_type": "code",
   "execution_count": null,
   "metadata": {},
   "outputs": [],
   "source": [
    " # write data in a file. \n",
    "file1 = open(\"myresults.txt\",\"w\") \n",
    "L = [\"Total Votes \" + str(row_count)]#,\"Average Change $\" + \"{:.2f}\".format(average)]\n",
    "#M = [\"\\nGreatest Increase in Profits: \"+ month + \" ($\"+str(big)+\"0) \\n\",\"Greatest Decrease in Profits: \"+ month2 + \" ($\"+str(small)+\"0) \\n\"]  \n",
    "  \n",
    "# \\n is placed to indicate EOL (End of Line) \n",
    "file1.write(\"Election Results  \\n-------------------- \\n\") \n",
    "file1.writelines(L)\n",
    "#file1.writelines(M)\n",
    "file1.close() \n",
    "  \n",
    "file1 = open(\"myresults.txt\",\"r+\")  \n",
    "  \n",
    "#checking the output for the file    \n",
    "print (\"Output of Read function is \")\n",
    "print (file1.read()) "
   ]
  },
  {
   "cell_type": "code",
   "execution_count": null,
   "metadata": {},
   "outputs": [],
   "source": []
  }
 ],
 "metadata": {
  "kernelspec": {
   "display_name": "Python 3",
   "language": "python",
   "name": "python3"
  },
  "language_info": {
   "codemirror_mode": {
    "name": "ipython",
    "version": 3
   },
   "file_extension": ".py",
   "mimetype": "text/x-python",
   "name": "python",
   "nbconvert_exporter": "python",
   "pygments_lexer": "ipython3",
   "version": "3.7.6"
  }
 },
 "nbformat": 4,
 "nbformat_minor": 4
}
