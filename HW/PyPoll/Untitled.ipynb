{
 "cells": [
  {
   "cell_type": "code",
   "execution_count": 1,
   "metadata": {},
   "outputs": [],
   "source": [
    "#import modules\n",
    "import os\n",
    "import csv"
   ]
  },
  {
   "cell_type": "code",
   "execution_count": 2,
   "metadata": {},
   "outputs": [],
   "source": [
    "#defining path\n",
    "csv_path = os.path.join(\"Resources\", \"election_data.csv\")"
   ]
  },
  {
   "cell_type": "code",
   "execution_count": 7,
   "metadata": {},
   "outputs": [
    {
     "name": "stdout",
     "output_type": "stream",
     "text": [
      "Election Results\n",
      "------------------\n",
      "Total Votes: 3521001\n"
     ]
    }
   ],
   "source": [
    "with open(csv_path) as csv_file:\n",
    "    # CSV reader specifies delimiter and variable that holds contents\n",
    "    csv_reader = csv.reader(csv_file, delimiter=',')\n",
    "    #printing header for output\n",
    "    print(\"Election Results\")\n",
    "    print(\"------------------\")\n",
    "    next(csv_reader)\n",
    "     #number of votes\n",
    "    row_count = sum(1 for row in csv_file)\n",
    "    print(\"Total Votes: \" + str(row_count))"
   ]
  },
  {
   "cell_type": "code",
   "execution_count": null,
   "metadata": {},
   "outputs": [],
   "source": []
  }
 ],
 "metadata": {
  "kernelspec": {
   "display_name": "Python 3",
   "language": "python",
   "name": "python3"
  },
  "language_info": {
   "codemirror_mode": {
    "name": "ipython",
    "version": 3
   },
   "file_extension": ".py",
   "mimetype": "text/x-python",
   "name": "python",
   "nbconvert_exporter": "python",
   "pygments_lexer": "ipython3",
   "version": "3.7.6"
  }
 },
 "nbformat": 4,
 "nbformat_minor": 4
}
